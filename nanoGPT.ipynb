{
 "cells": [
  {
   "cell_type": "code",
   "execution_count": 1,
   "metadata": {
    "executionInfo": {
     "elapsed": 6,
     "status": "ok",
     "timestamp": 1716719081754,
     "user": {
      "displayName": "Adbhut Bhardwaj",
      "userId": "06043960542338281847"
     },
     "user_tz": -330
    },
    "id": "ruGwCmb-FGIb"
   },
   "outputs": [],
   "source": [
    "with open(\"./datasets/tiny_shakespeare/input.txt\", \"r\") as f:\n",
    "    text = f.read()"
   ]
  },
  {
   "cell_type": "code",
   "execution_count": 15,
   "metadata": {
    "colab": {
     "base_uri": "https://localhost:8080/"
    },
    "executionInfo": {
     "elapsed": 7,
     "status": "ok",
     "timestamp": 1716719083643,
     "user": {
      "displayName": "Adbhut Bhardwaj",
      "userId": "06043960542338281847"
     },
     "user_tz": -330
    },
    "id": "OCgSmzyNFGBR",
    "outputId": "d609614e-6784-4a24-97b6-552c5f35448f"
   },
   "outputs": [
    {
     "data": {
      "text/plain": [
       "1115394"
      ]
     },
     "execution_count": 15,
     "metadata": {},
     "output_type": "execute_result"
    }
   ],
   "source": [
    "len(text)"
   ]
  },
  {
   "cell_type": "code",
   "execution_count": 3,
   "metadata": {
    "colab": {
     "base_uri": "https://localhost:8080/"
    },
    "executionInfo": {
     "elapsed": 6,
     "status": "ok",
     "timestamp": 1716719085786,
     "user": {
      "displayName": "Adbhut Bhardwaj",
      "userId": "06043960542338281847"
     },
     "user_tz": -330
    },
    "id": "_dC06b9FIFIO",
    "outputId": "715768df-3469-40df-cfe5-963e8d6bf78d"
   },
   "outputs": [
    {
     "name": "stdout",
     "output_type": "stream",
     "text": [
      "\n",
      " !$&',-.3:;?ABCDEFGHIJKLMNOPQRSTUVWXYZabcdefghijklmnopqrstuvwxyz\n",
      "65\n"
     ]
    }
   ],
   "source": [
    "chars = sorted(list(set(text)))\n",
    "vocab_size = len(chars)\n",
    "print(''.join(chars))\n",
    "print(vocab_size)"
   ]
  },
  {
   "cell_type": "code",
   "execution_count": 4,
   "metadata": {
    "colab": {
     "base_uri": "https://localhost:8080/"
    },
    "executionInfo": {
     "elapsed": 5,
     "status": "ok",
     "timestamp": 1716719087708,
     "user": {
      "displayName": "Adbhut Bhardwaj",
      "userId": "06043960542338281847"
     },
     "user_tz": -330
    },
    "id": "G6AubCNGFFnI",
    "outputId": "2d389edc-d44e-410c-c545-b9bf55392a0e"
   },
   "outputs": [
    {
     "name": "stdout",
     "output_type": "stream",
     "text": [
      "[20, 43, 50, 50, 53, 1, 35, 53, 56, 50, 42, 2]\n",
      "Hello World!\n"
     ]
    }
   ],
   "source": [
    "ctoi = {c:i for i, c in enumerate(chars)}\n",
    "itoc = {i:c for i, c in enumerate(chars)}\n",
    "\n",
    "def encode(s):\n",
    "    return [ctoi[c] for c in s]\n",
    "def decode(token_seq):\n",
    "    return \"\".join([itoc[i] for i in token_seq])\n",
    "\n",
    "token_seq = encode(\"Hello World!\")\n",
    "print(token_seq)\n",
    "print(decode(token_seq))"
   ]
  },
  {
   "cell_type": "code",
   "execution_count": 5,
   "metadata": {
    "executionInfo": {
     "elapsed": 725,
     "status": "ok",
     "timestamp": 1716719090516,
     "user": {
      "displayName": "Adbhut Bhardwaj",
      "userId": "06043960542338281847"
     },
     "user_tz": -330
    },
    "id": "3MajiVW_JvHE"
   },
   "outputs": [],
   "source": [
    "tokenized_text = encode(text)\n",
    "assert len(tokenized_text) == len(text)"
   ]
  },
  {
   "cell_type": "code",
   "execution_count": null,
   "metadata": {
    "id": "M35w3UMNO-Bo"
   },
   "outputs": [],
   "source": []
  },
  {
   "cell_type": "code",
   "execution_count": 6,
   "metadata": {
    "colab": {
     "base_uri": "https://localhost:8080/"
    },
    "executionInfo": {
     "elapsed": 714,
     "status": "ok",
     "timestamp": 1716720266027,
     "user": {
      "displayName": "Adbhut Bhardwaj",
      "userId": "06043960542338281847"
     },
     "user_tz": -330
    },
    "id": "WEb8OOwsO96i",
    "outputId": "6441d0dc-f95e-4214-cbb1-7b74aa9334f4"
   },
   "outputs": [
    {
     "data": {
      "text/plain": [
       "<torch._C.Generator at 0x72b7045dfb50>"
      ]
     },
     "execution_count": 6,
     "metadata": {},
     "output_type": "execute_result"
    }
   ],
   "source": [
    "import torch\n",
    "import torch.nn as nn\n",
    "import torch.nn.functional as F\n",
    "torch.manual_seed(42)"
   ]
  },
  {
   "cell_type": "code",
   "execution_count": 7,
   "metadata": {},
   "outputs": [],
   "source": [
    "from nano_gpt import nanoGPT"
   ]
  },
  {
   "cell_type": "code",
   "execution_count": 8,
   "metadata": {
    "colab": {
     "base_uri": "https://localhost:8080/"
    },
    "executionInfo": {
     "elapsed": 14,
     "status": "ok",
     "timestamp": 1716720266633,
     "user": {
      "displayName": "Adbhut Bhardwaj",
      "userId": "06043960542338281847"
     },
     "user_tz": -330
    },
    "id": "448NVEV3RCog",
    "outputId": "b6a898cf-20e7-41dc-ad3e-d398dc437346"
   },
   "outputs": [
    {
     "name": "stdout",
     "output_type": "stream",
     "text": [
      "1003854\n",
      "111540\n"
     ]
    }
   ],
   "source": [
    "train_data_size = int(0.9*len(tokenized_text))\n",
    "val_data_size = len(tokenized_text) - train_data_size\n",
    "\n",
    "print(train_data_size)  # number of tokens\n",
    "print(val_data_size)"
   ]
  },
  {
   "cell_type": "code",
   "execution_count": 9,
   "metadata": {
    "colab": {
     "base_uri": "https://localhost:8080/"
    },
    "executionInfo": {
     "elapsed": 11,
     "status": "ok",
     "timestamp": 1716720266634,
     "user": {
      "displayName": "Adbhut Bhardwaj",
      "userId": "06043960542338281847"
     },
     "user_tz": -330
    },
    "id": "lFWAEl9dRCmR",
    "outputId": "a9d47171-bd72-4b31-9a1f-8d1c3ef96dec"
   },
   "outputs": [
    {
     "name": "stdout",
     "output_type": "stream",
     "text": [
      "torch.Size([1003854])\n",
      "torch.Size([111540])\n"
     ]
    }
   ],
   "source": [
    "train_data = torch.tensor(\n",
    "    tokenized_text[:train_data_size],\n",
    "    dtype=torch.long,\n",
    ")\n",
    "val_data = torch.tensor(\n",
    "    tokenized_text[train_data_size:],\n",
    "    dtype=torch.long,\n",
    ")\n",
    "print(train_data.shape)\n",
    "print(val_data.shape)"
   ]
  },
  {
   "cell_type": "code",
   "execution_count": 68,
   "metadata": {
    "executionInfo": {
     "elapsed": 6,
     "status": "ok",
     "timestamp": 1716720266634,
     "user": {
      "displayName": "Adbhut Bhardwaj",
      "userId": "06043960542338281847"
     },
     "user_tz": -330
    },
    "id": "7Ht5AreNRCj8"
   },
   "outputs": [],
   "source": []
  },
  {
   "cell_type": "code",
   "execution_count": 10,
   "metadata": {
    "executionInfo": {
     "elapsed": 16,
     "status": "ok",
     "timestamp": 1716720267131,
     "user": {
      "displayName": "Adbhut Bhardwaj",
      "userId": "06043960542338281847"
     },
     "user_tz": -330
    },
    "id": "3prq751RUh9q"
   },
   "outputs": [],
   "source": [
    "ctxt_len = 256\n",
    "batch_size = 32\n",
    "n_embed = 384\n",
    "num_layers = 6\n",
    "num_heads = 6\n",
    "dropout = 0.2\n",
    "device = 'cuda' if torch.cuda.is_available() else 'cpu'\n",
    "max_iters = 5000\n",
    "eval_interval = 100\n",
    "eval_iters = 200 # how many batches to eval on in one evaluation\n",
    "learning_rate = 5e-4"
   ]
  },
  {
   "cell_type": "code",
   "execution_count": 11,
   "metadata": {
    "executionInfo": {
     "elapsed": 15,
     "status": "ok",
     "timestamp": 1716720267131,
     "user": {
      "displayName": "Adbhut Bhardwaj",
      "userId": "06043960542338281847"
     },
     "user_tz": -330
    },
    "id": "XJoowudxJuhY"
   },
   "outputs": [],
   "source": [
    "def get_batch(split):\n",
    "    data = train_data if split=='train' else val_data\n",
    "    start_idxs = torch.randint(0, len(data)-ctxt_len, (batch_size, ))\n",
    "    x = torch.stack([data[idx:idx+ctxt_len] for idx in start_idxs])\n",
    "    y = torch.stack([data[idx+1:idx+1+ctxt_len] for idx in start_idxs])\n",
    "    x, y = x.to(device), y.to(device)\n",
    "    return x, y"
   ]
  },
  {
   "cell_type": "code",
   "execution_count": 72,
   "metadata": {
    "executionInfo": {
     "elapsed": 10,
     "status": "ok",
     "timestamp": 1716720267629,
     "user": {
      "displayName": "Adbhut Bhardwaj",
      "userId": "06043960542338281847"
     },
     "user_tz": -330
    },
    "id": "ZUBjzBWWXtmv"
   },
   "outputs": [],
   "source": []
  },
  {
   "cell_type": "code",
   "execution_count": 12,
   "metadata": {
    "executionInfo": {
     "elapsed": 9,
     "status": "ok",
     "timestamp": 1716720272113,
     "user": {
      "displayName": "Adbhut Bhardwaj",
      "userId": "06043960542338281847"
     },
     "user_tz": -330
    },
    "id": "norF-pg7xbhE"
   },
   "outputs": [],
   "source": [
    "llm = nanoGPT(vocab_size, ctxt_len, n_embed, num_heads, num_layers, dropout, device)\n",
    "llm = llm.to(device)"
   ]
  },
  {
   "cell_type": "code",
   "execution_count": 13,
   "metadata": {
    "colab": {
     "base_uri": "https://localhost:8080/"
    },
    "executionInfo": {
     "elapsed": 9,
     "status": "ok",
     "timestamp": 1716720272658,
     "user": {
      "displayName": "Adbhut Bhardwaj",
      "userId": "06043960542338281847"
     },
     "user_tz": -330
    },
    "id": "h0HK1rc5Ut2z",
    "outputId": "8bb1dbd9-fa39-4244-bd8b-aab6595f627e"
   },
   "outputs": [
    {
     "data": {
      "text/plain": [
       "tensor([[0]])"
      ]
     },
     "execution_count": 13,
     "metadata": {},
     "output_type": "execute_result"
    }
   ],
   "source": [
    "x = torch.tensor([0], device=device).reshape(1, 1)\n",
    "x"
   ]
  },
  {
   "cell_type": "code",
   "execution_count": 14,
   "metadata": {
    "colab": {
     "base_uri": "https://localhost:8080/"
    },
    "executionInfo": {
     "elapsed": 3902,
     "status": "ok",
     "timestamp": 1716720277220,
     "user": {
      "displayName": "Adbhut Bhardwaj",
      "userId": "06043960542338281847"
     },
     "user_tz": -330
    },
    "id": "tMX7mBKp9q7j",
    "outputId": "5d054f28-beb0-4925-f9b8-abd25051d9c6"
   },
   "outputs": [
    {
     "name": "stdout",
     "output_type": "stream",
     "text": [
      "\n",
      "GTSj\n",
      "coMg!tNASVoy.\n",
      "v:SLtqCJWqaaZ.Hjvu\n",
      "wlvFMBjQcDRt:-&;RKF;b&FlUEkwiO?BMOyCOP?OTg;O'Btjg\n",
      "!H!!xlgScxo-fIepD3\n",
      "M OukwFo:gB w!kl-?tIZaSFc-&RAdHaRF3eqLX$R!'jNHXbgvjkaStRBgb$Jrb',WCn\n",
      "B.3TUJqVPHx-$h\n",
      "JoN:pqwK''rahz.;TRW\n",
      "k,auXShgv\n",
      "V.jl?bMZW-P.QTi;mx3eezT-w!MQ!SsioELoOREpcL3mctJnVefRh-nCXqEVxtSuoMvOO ?RoILlAzajOCVoKeC?tCjjIteubkSRdYc;:ADnqhZMURzFtmlXdKboKcdqyjQKkRe\n",
      "dahZSRrygLz!BKRb?lGzrYcCA.jA-RNP m,yXLpZbayDdSCdcWIE'CcWLyVdyImdsfOp,ndto eqKzDtuWREMz DtRlIM;3R\n",
      "d cHAwVl!adkayCsy?:VB!xtL; z\n",
      "Rbv?FfgB'e'v.YzZZ\n"
     ]
    }
   ],
   "source": [
    "generated_tokens = llm.generate(\n",
    "    x,\n",
    "    max_new_tokens=500\n",
    ")\n",
    "generated_text = decode(generated_tokens[0].tolist())\n",
    "print(generated_text)"
   ]
  },
  {
   "cell_type": "code",
   "execution_count": 79,
   "metadata": {
    "executionInfo": {
     "elapsed": 12,
     "status": "ok",
     "timestamp": 1716720280080,
     "user": {
      "displayName": "Adbhut Bhardwaj",
      "userId": "06043960542338281847"
     },
     "user_tz": -330
    },
    "id": "F4Po8YcG9q5H"
   },
   "outputs": [],
   "source": []
  },
  {
   "cell_type": "code",
   "execution_count": 80,
   "metadata": {
    "executionInfo": {
     "elapsed": 8,
     "status": "ok",
     "timestamp": 1716720281603,
     "user": {
      "displayName": "Adbhut Bhardwaj",
      "userId": "06043960542338281847"
     },
     "user_tz": -330
    },
    "id": "owsBcsOE9q0w"
   },
   "outputs": [],
   "source": [
    "@torch.no_grad()\n",
    "def estimate_loss():\n",
    "    losses = {}\n",
    "    llm.eval()\n",
    "    for split in ['train', 'val']:\n",
    "        running_loss = 0;\n",
    "        for i in range(eval_iters):\n",
    "            x, y = get_batch(split)\n",
    "            logits = llm(x)\n",
    "            loss = llm.calc_loss(logits, y)\n",
    "            running_loss += loss.item()\n",
    "        losses[split] = running_loss / eval_iters\n",
    "    llm.train()\n",
    "\n",
    "    return losses"
   ]
  },
  {
   "cell_type": "code",
   "execution_count": null,
   "metadata": {
    "colab": {
     "base_uri": "https://localhost:8080/"
    },
    "executionInfo": {
     "elapsed": 2432189,
     "status": "ok",
     "timestamp": 1716722716701,
     "user": {
      "displayName": "Adbhut Bhardwaj",
      "userId": "06043960542338281847"
     },
     "user_tz": -330
    },
    "id": "uuewqjfwWlj9",
    "outputId": "9eb1fb26-b3a0-421f-c81c-02fdc1fae8e6"
   },
   "outputs": [],
   "source": [
    "optimizer = torch.optim.AdamW(llm.parameters(), lr=learning_rate)\n",
    "\n",
    "for iter in range(max_iters):\n",
    "    if iter%eval_interval == 0 or iter == max_iters-1:\n",
    "        losses = estimate_loss()\n",
    "        print(\n",
    "            f\"step {iter}: train loss {losses['train']:.4f}\"\n",
    "            + f\", val loss {losses['val']:.4f}\"\n",
    "        )\n",
    "\n",
    "    x, y = get_batch('train')\n",
    "\n",
    "    logits = llm(x)\n",
    "    loss = llm.calc_loss(logits, y)\n",
    "    optimizer.zero_grad()\n",
    "    loss.backward()\n",
    "    optimizer.step()"
   ]
  },
  {
   "cell_type": "code",
   "execution_count": 45,
   "metadata": {
    "executionInfo": {
     "elapsed": 27,
     "status": "ok",
     "timestamp": 1716719433947,
     "user": {
      "displayName": "Adbhut Bhardwaj",
      "userId": "06043960542338281847"
     },
     "user_tz": -330
    },
    "id": "_kUc675QWliD"
   },
   "outputs": [],
   "source": []
  },
  {
   "cell_type": "code",
   "execution_count": null,
   "metadata": {
    "colab": {
     "base_uri": "https://localhost:8080/"
    },
    "executionInfo": {
     "elapsed": 12,
     "status": "ok",
     "timestamp": 1716723726871,
     "user": {
      "displayName": "Adbhut Bhardwaj",
      "userId": "06043960542338281847"
     },
     "user_tz": -330
    },
    "id": "zO5uhr5tWldM",
    "outputId": "37a33e03-4562-4b74-be20-aeab4af0c5d4"
   },
   "outputs": [],
   "source": [
    "x = torch.tensor([0], device=device).reshape(1, 1)\n",
    "x"
   ]
  },
  {
   "cell_type": "code",
   "execution_count": null,
   "metadata": {
    "colab": {
     "base_uri": "https://localhost:8080/"
    },
    "executionInfo": {
     "elapsed": 3139,
     "status": "ok",
     "timestamp": 1716723733040,
     "user": {
      "displayName": "Adbhut Bhardwaj",
      "userId": "06043960542338281847"
     },
     "user_tz": -330
    },
    "id": "trvNcAy2WlbF",
    "outputId": "2adf5007-00c9-4498-ad97-a3448d0bc866"
   },
   "outputs": [],
   "source": [
    "generated_tokens = llm.generate(\n",
    "    x,\n",
    "    max_new_tokens=500\n",
    ")\n",
    "generated_text = decode(generated_tokens[0].tolist())\n",
    "print(generated_text)"
   ]
  },
  {
   "cell_type": "code",
   "execution_count": null,
   "metadata": {
    "id": "xgb4IPbuWUzA"
   },
   "outputs": [],
   "source": []
  }
 ],
 "metadata": {
  "accelerator": "GPU",
  "colab": {
   "authorship_tag": "ABX9TyPns1c+Bl9MlyaBh0vrFDfF",
   "gpuType": "T4",
   "provenance": []
  },
  "kernelspec": {
   "display_name": ".venv",
   "language": "python",
   "name": "python3"
  },
  "language_info": {
   "codemirror_mode": {
    "name": "ipython",
    "version": 3
   },
   "file_extension": ".py",
   "mimetype": "text/x-python",
   "name": "python",
   "nbconvert_exporter": "python",
   "pygments_lexer": "ipython3",
   "version": "3.12.3"
  }
 },
 "nbformat": 4,
 "nbformat_minor": 0
}
